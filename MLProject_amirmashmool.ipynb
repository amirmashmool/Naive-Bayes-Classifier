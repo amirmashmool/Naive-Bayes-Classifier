{
  "nbformat": 4,
  "nbformat_minor": 0,
  "metadata": {
    "colab": {
      "name": "ml project-amirmashmool (1).ipynb",
      "provenance": [],
      "collapsed_sections": []
    },
    "kernelspec": {
      "name": "python3",
      "display_name": "Python 3"
    },
    "language_info": {
      "name": "python"
    }
  },
  "cells": [
    {
      "cell_type": "markdown",
      "source": [
        "Name : **Amir** **Mashmool** Matricola : 5245307   Project : Naive Bayes algorithm"
      ],
      "metadata": {
        "id": "brXRkQQGscZ-"
      }
    },
    {
      "cell_type": "markdown",
      "source": [
        "# Naive Bayes Classifier\n",
        "## Theory of Naive Bayes Algorithm | Advantage and Disadvantage \n",
        "naive Bayes classifiers are a family of simple \"probabilistic classifiers\" based on applying Bayes' theorem with strong (naïve) independence assumptions between the features. They are among the simplest Bayesian network models but coupled with kernel density estimation, they can achieve higher accuracy levels.\n",
        "Naïve Bayes classifiers are highly scalable, requiring a number of parameters linear in the number of variables (features/predictors) in a learning problem. Maximum-likelihood training can be done by evaluating a closed-form expression, which takes linear time, rather than by expensive iterative approximation as used for many other types of classifiers.\n",
        "\n",
        "\n",
        "Bayes’ Theorem provides a way that we can calculate the probability of a piece of data belonging to a given class, given our prior knowledge. Bayes’ Theorem is stated as:\n",
        "\n",
        "P(class|data) = (P(data|class) * P(class)) / P(data)\n",
        "Where P(class|data) is the probability of class given the provided data.\n",
        "\n",
        "\n",
        "Naive Bayes is a classification algorithm for binary (two-class) and multiclass classification problems. It is called Naive Bayes or idiot Bayes because the calculations of the probabilities for each class are simplified to make their calculations tractable.\n",
        "Rather than attempting to calculate the probabilities of each attribute value, they are assumed to be conditionally independent given the class value.\n",
        "This is a very strong assumption that is most unlikely in real data, i.e. that the attributes do not interact. Nevertheless, the approach performs surprisingly well on data where this assumption does not hold.\n",
        "\n",
        "\n",
        "For some types of probability models, naive Bayes classifiers can be trained very efficiently in a supervised learning setting. In many practical applications, parameter estimation for naive Bayes models uses the method of maximum likelihood; in other words, one can work with the naive Bayes model without accepting Bayesian probability or using any Bayesian methods.\n",
        "Despite their naive design and apparently oversimplified assumptions, naive Bayes classifiers have worked quite well in many complex real-world situations. \n",
        "\n",
        "* <b>Advantage: </b>\n",
        "An advantage of naive Bayes is that it only requires a small number of training data to estimate the parameters necessary for classification, easy to implement,good result obtained in many cases\n",
        "\n",
        "* <b>Disadvantage: </b> strong assumption: class conditional independencies. How to deal with these dependencies? the answer is Bayesian Networks.\n",
        "\n",
        "\n"
      ],
      "metadata": {
        "nteract": {
          "transient": {
            "deleting": false
          }
        },
        "id": "6X_JLbY38WqX"
      }
    },
    {
      "cell_type": "markdown",
      "source": [
        "### Import necessary libraries"
      ],
      "metadata": {
        "nteract": {
          "transient": {
            "deleting": false
          }
        },
        "id": "GaO0VVdws590"
      }
    },
    {
      "cell_type": "code",
      "source": [
        "import numpy as np\n",
        "from math import sqrt\n",
        "from math import pi\n",
        "from math import exp\n",
        "from random import randrange\n",
        "import numpy as np\n",
        "import pandas as pd\n",
        "import matplotlib.pyplot as plt\n",
        "import seaborn as sns\n",
        "import random\n",
        "import sys"
      ],
      "metadata": {
        "id": "KB8EITvcQpQo"
      },
      "execution_count": 1,
      "outputs": []
    },
    {
      "cell_type": "markdown",
      "source": [
        "### Generating synthetic data + Adding noise to the data."
      ],
      "metadata": {
        "id": "8JG_urIlv8F9"
      }
    },
    {
      "cell_type": "code",
      "source": [
        "def mixGauss(means, sigmas, n):\n",
        "\n",
        "    means = np.array(means)\n",
        "    sigmas = np.array(sigmas)\n",
        "    d = means.shape[1]\n",
        "    num_classes = sigmas.size\n",
        "    data = np.full((n * num_classes, d), np.inf)\n",
        "    labels = np.zeros(n * num_classes)\n",
        "\n",
        "    for idx, sigma in enumerate(sigmas):\n",
        "        data[idx * n:(idx + 1) * n] = np.random.multivariate_normal(mean=means[idx], cov=np.eye(d) * sigmas[idx] ** 2,\n",
        "                                                                   size=n)\n",
        "        labels[idx * n:(idx + 1) * n] = idx\n",
        "        #labels[idx * n:(idx + 1) * n] = random.choice([-1,1])\n",
        "        \n",
        "    if(num_classes == 2):\n",
        "        labels[labels==0] = -1\n",
        "    dataset=[]\n",
        "    for idx,value in enumerate(data):\n",
        "        temp=[]\n",
        "        for v in value:\n",
        "            temp.append(v)\n",
        "        temp.append(int(labels[idx]))\n",
        "        dataset.append(temp)\n",
        "    #print('i am dataset\\n',dataset)\n",
        "    return dataset\n",
        "\n",
        "def flipLabels(Y, perc):\n",
        "\n",
        "    if perc < 1 or perc > 100:\n",
        "        print(\"p should be a percentage value between 0 and 100.\")\n",
        "        return -1\n",
        "\n",
        "    if any(np.abs(Y) != 1):\n",
        "        print(\"The values of Ytr should be +1 or -1.\")\n",
        "        return -1\n",
        "\n",
        "    Y_noisy = np.copy(np.squeeze(Y))\n",
        "    if Y_noisy.ndim > 1:\n",
        "        print(\"Please supply a label array with only one dimension\")\n",
        "        return -1\n",
        "\n",
        "    n = Y_noisy.size\n",
        "    n_flips = int(np.floor(n * perc / 100))\n",
        "    idx_to_flip = np.random.choice(n, size=n_flips, replace=False)\n",
        "    Y_noisy[idx_to_flip] = -Y_noisy[idx_to_flip]\n",
        "\n",
        "    return Y_noisy\n"
      ],
      "metadata": {
        "id": "4GGVAlOflvM9"
      },
      "execution_count": 2,
      "outputs": []
    },
    {
      "cell_type": "code",
      "source": [
        "result=mixGauss([[0,0], [1,1]], [0.25, 0.25], 5)\n",
        "print('Here is the dataset\\n',result)\n",
        "labels=[]\n",
        "for data in result:\n",
        "    labels.append(data[-1])\n",
        "result_noisy=flipLabels(labels,30)\n",
        "print(result_noisy)\n",
        "for idx,item in enumerate(result_noisy):\n",
        "    result[idx][-1]=item\n",
        "print('After Noising\\n',result)"
      ],
      "metadata": {
        "colab": {
          "base_uri": "https://localhost:8080/"
        },
        "id": "7m5M1nCOn66J",
        "outputId": "d33320db-04ff-4fc9-faeb-943942201a2d"
      },
      "execution_count": 3,
      "outputs": [
        {
          "output_type": "stream",
          "name": "stdout",
          "text": [
            "Here is the dataset\n",
            " [[0.15730598231009163, 0.025322138182509807, -1], [-0.27969063361942326, 0.02794232964687921, -1], [0.06254253005408607, -0.30511321618475035, -1], [-0.2375521883198923, -0.3480239676871119, -1], [0.07165805245390094, 0.059629296344857786, -1], [0.7668175947829505, 1.1615951764820713, 1], [1.0578010808803657, 0.8038083698523294, 1], [1.078043848211549, 0.7499212635967103, 1], [1.1798479255163692, 1.2423329675525425, 1], [0.7526865987286712, 1.1297104548115318, 1]]\n",
            "[-1  1 -1 -1  1  1  1 -1  1  1]\n",
            "After Noising\n",
            " [[0.15730598231009163, 0.025322138182509807, -1], [-0.27969063361942326, 0.02794232964687921, 1], [0.06254253005408607, -0.30511321618475035, -1], [-0.2375521883198923, -0.3480239676871119, -1], [0.07165805245390094, 0.059629296344857786, 1], [0.7668175947829505, 1.1615951764820713, 1], [1.0578010808803657, 0.8038083698523294, 1], [1.078043848211549, 0.7499212635967103, -1], [1.1798479255163692, 1.2423329675525425, 1], [0.7526865987286712, 1.1297104548115318, 1]]\n"
          ]
        }
      ]
    },
    {
      "cell_type": "markdown",
      "source": [
        "## Separate By Class\n",
        "\n",
        "We will need to **calculate the probability of data by the class** they belong to.\n",
        "This means that we will first need to separate our training data by class.\n",
        "Below is a function named separate_by_class() that implements this approach. It assumes that the last column in each row is the class value."
      ],
      "metadata": {
        "id": "R9Y_Ol5wtAN7"
      }
    },
    {
      "cell_type": "code",
      "source": [
        "# Split the dataset by class values, returns a dictionary\n",
        "def separate_by_class(dataset):\n",
        "\tseparated = dict()\n",
        "\tfor i in range(len(dataset)):\n",
        "\t\tvector = dataset[i]\n",
        "\t\tclass_value = vector[-1]\n",
        "\t\tif (class_value not in separated):\n",
        "\t\t\tseparated[class_value] = list()\n",
        "\t\tseparated[class_value].append(vector)\n",
        "\treturn separated\n",
        "\n",
        "#(just for test)\n",
        "# Test separating data by class \n",
        "dataset = mixGauss([[0,0], [1,1]], [0.25, 0.25], 5)\n",
        "separated = separate_by_class(dataset)\n",
        "for label in separated:\n",
        "\tprint(label)\n",
        "\tfor row in separated[label]:\n",
        "\t\tprint(row)\n",
        "\tplt.plot(row) # plot the data and use separate colors for each class\n"
      ],
      "metadata": {
        "colab": {
          "base_uri": "https://localhost:8080/",
          "height": 473
        },
        "id": "IR8qbBNnnHeE",
        "outputId": "475e16d9-7083-482c-8842-d50b91e5cc2c"
      },
      "execution_count": 4,
      "outputs": [
        {
          "output_type": "stream",
          "name": "stdout",
          "text": [
            "-1\n",
            "[0.22668532294874844, 0.2140503708173592, -1]\n",
            "[-0.025275271205091657, 0.1971863930859254, -1]\n",
            "[-0.13322703452730886, -0.29874322169779666, -1]\n",
            "[0.15443183715334538, -0.0905051698762556, -1]\n",
            "[0.11506940382455229, -0.07325877251898841, -1]\n",
            "1\n",
            "[0.7355002324974349, 1.0369066677135572, 1]\n",
            "[1.015597299893482, 1.1495840127056058, 1]\n",
            "[0.9957992111537459, 0.9950938436315646, 1]\n",
            "[0.9550493368396128, 1.0827207868525432, 1]\n",
            "[0.8073275318868973, 1.0367738594020286, 1]\n"
          ]
        },
        {
          "output_type": "display_data",
          "data": {
            "text/plain": [
              "<Figure size 432x288 with 1 Axes>"
            ],
            "image/png": "[encoded data removed]"
          },
          "metadata": {
            "needs_background": "light"
          }
        }
      ]
    },
    {
      "cell_type": "markdown",
      "source": [
        "##Summarize Data\n",
        "We need to calculate the standard deviation and mean.\n",
        "The mean is the average value and can be calculated as:\n",
        "\n",
        "mean = sum(x)/n * count(x)\n",
        "\n",
        "The sample standard deviation is calculated as the mean difference from the mean value. This can be calculated as:\n",
        "\n",
        "standard deviation = sqrt((sum i to N (x_i – mean(x))^2) / N-1)"
      ],
      "metadata": {
        "id": "wNVY2DfV7na1"
      }
    },
    {
      "cell_type": "code",
      "execution_count": 5,
      "metadata": {
        "id": "pVW8rhLaP6OZ",
        "colab": {
          "base_uri": "https://localhost:8080/"
        },
        "outputId": "9573b6f6-a739-4518-8adf-6ba51ddbbc46"
      },
      "outputs": [
        {
          "output_type": "stream",
          "name": "stdout",
          "text": [
            "[(0.48469578704654187, 0.45770880286120624, 10), (0.5249808770115544, 0.5836257651664712, 10)]\n"
          ]
        }
      ],
      "source": [
        "\n",
        "# Calculate the mean of a list of numbers\n",
        "def mean(numbers):\n",
        "\treturn sum(numbers)/float(len(numbers))\n",
        " \n",
        "# Calculate the standard deviation of a list of numbers\n",
        "def stdev(numbers):\n",
        "\tavg = mean(numbers)\n",
        "\tvariance = sum([(x-avg)**2 for x in numbers]) / float(len(numbers)-1)\n",
        "\treturn sqrt(variance)\n",
        " \n",
        "# Calculate the mean, stdev and count for each column in a dataset\n",
        "#We require the mean and standard deviation statistics to be calculated for each input attribute or each column of our data.\n",
        "def summarize_dataset(dataset):\n",
        "  summaries = [(mean(column), stdev(column), len(column)) for column in zip(*dataset)]\n",
        "  del(summaries[-1])\n",
        "  return summaries\n",
        "\n",
        "\n",
        "#(just for test)\n",
        "# Test separating data by class \n",
        "summary = summarize_dataset(dataset)\n",
        "print(summary)\n",
        "\n",
        "\n"
      ]
    },
    {
      "cell_type": "markdown",
      "source": [
        "we can see that the mean value and the standard deviation."
      ],
      "metadata": {
        "id": "Q6O6u2IIH0kX"
      }
    },
    {
      "cell_type": "markdown",
      "source": [
        "##Summarize Data By Class"
      ],
      "metadata": {
        "id": "JYMF0DnhJWKk"
      }
    },
    {
      "cell_type": "code",
      "source": [
        "# Split dataset by class then calculate statistics for each row\n",
        "def summarize_by_class(dataset):\n",
        "\tseparated = separate_by_class(dataset)\n",
        "\tsummaries = dict()\n",
        "\tfor class_value, rows in separated.items():\n",
        "\t\tsummaries[class_value] = summarize_dataset(rows)\n",
        "\treturn summaries\n",
        "\n",
        "#(just for test)\n",
        "# Test summarizing by class\n",
        "summary = summarize_by_class(dataset)\n",
        "for label in summary:\n",
        "\tprint(label)\n",
        "\tfor row in summary[label]:\n",
        "\t\tprint(row)\n",
        "\t\tplt.plot(row) # plot the data\n"
      ],
      "metadata": {
        "colab": {
          "base_uri": "https://localhost:8080/",
          "height": 369
        },
        "id": "AcQcaqkvrxQ7",
        "outputId": "e45b866f-e4ab-41b8-d3df-19f080d5ae01"
      },
      "execution_count": 6,
      "outputs": [
        {
          "output_type": "stream",
          "name": "stdout",
          "text": [
            "-1\n",
            "(0.06753685163884912, 0.14496425945768993, 5)\n",
            "(-0.01025408003795122, 0.21620583370590407, 5)\n",
            "1\n",
            "(0.9018547224542346, 0.12369500188415612, 5)\n",
            "(1.06021583406106, 0.05879383748238387, 5)\n"
          ]
        },
        {
          "output_type": "display_data",
          "data": {
            "text/plain": [
              "<Figure size 432x288 with 1 Axes>"
            ],
            "image/png": "[encoded data removed]"
          },
          "metadata": {
            "needs_background": "light"
          }
        }
      ]
    },
    {
      "cell_type": "markdown",
      "source": [
        "##Gaussian Probability Density Function\n",
        "Gaussian Probability Distribution Function (or Gaussian PDF) and can be calculated as:\n",
        "\n",
        "f(x) = (1 / sqrt(2 * PI) * sigma) * exp(-((x-mean)^2 / (2 * sigma^2)))\n",
        "\n",
        "Where sigma is the standard deviation for x, mean is the mean for x and PI is the value of pi."
      ],
      "metadata": {
        "id": "n5op73UHrDvc"
      }
    },
    {
      "cell_type": "code",
      "source": [
        "# Calculate the Gaussian probability distribution function for x\n",
        "def calculate_probability(x, mean, stdev):\n",
        "\texponent = exp(-((x-mean)**2 / (2 * stdev**2 )))\n",
        "\treturn (1 / (sqrt(2 * pi) * stdev)) * exponent\n",
        "\n",
        "#(just for test)\n",
        "# Test Gaussian PDF(probability distribution function)\n",
        "print(calculate_probability(1.0, 1.0, 1.0))\n",
        "print(calculate_probability(2.0, 1.0, 1.0))\n",
        "print(calculate_probability(0.0, 1.0, 1.0))"
      ],
      "metadata": {
        "colab": {
          "base_uri": "https://localhost:8080/"
        },
        "id": "XZA_eTtIIyo9",
        "outputId": "a0ae9bb7-0091-43ae-f938-131074e0cb32"
      },
      "execution_count": 7,
      "outputs": [
        {
          "output_type": "stream",
          "name": "stdout",
          "text": [
            "0.3989422804014327\n",
            "0.24197072451914337\n",
            "0.24197072451914337\n"
          ]
        }
      ]
    },
    {
      "cell_type": "markdown",
      "source": [
        "##Class Probabilities\n",
        "Probabilities are calculated separately for each class. This means that we first calculate the probability that a new piece of data belongs to the first class, then calculate probabilities that it belongs to the second class, and so on for all the classes.\n",
        "\n",
        "The probability that a piece of data belongs to a class is calculated as follows:\n",
        "\n",
        "P(class|data) = P(X|class) * P(class)\n",
        "The division has been removed to simplify the calculation.\n",
        "The input variables are treated separately, giving the technique its name **“naive“**. For the above example where we have 2 input variables, the calculation of the probability that a row belongs to the first-class 0 can be calculated as:\n",
        "P(class=0|X1,X2) = P(X1|class=0) * P(X2|class=0) * P(class=0)"
      ],
      "metadata": {
        "id": "3mhayRbpKLXQ"
      }
    },
    {
      "cell_type": "code",
      "source": [
        "# Calculate the probabilities of predicting each class for a given row\n",
        "def calculate_class_probabilities(summaries, row):\n",
        "\ttotal_rows = sum([summaries[label][0][2] for label in summaries])\n",
        "\tprobabilities = dict()\n",
        "\tfor class_value, class_summaries in summaries.items():\n",
        "\t\tprobabilities[class_value] = summaries[class_value][0][2]/float(total_rows)\n",
        "\t\tfor i in range(len(class_summaries)):\n",
        "\t\t\tmean, stdev, count = class_summaries[i]\n",
        "\t\t\tprobabilities[class_value] *= calculate_probability(row[i], mean, stdev)\n",
        "\treturn probabilities\n",
        "\n",
        "#(just for test)\n",
        "# Test calculating class probabilities\n",
        "summaries = summarize_by_class(dataset)\n",
        "probabilities = calculate_class_probabilities(summaries, dataset[0])\n",
        "print(probabilities)"
      ],
      "metadata": {
        "colab": {
          "base_uri": "https://localhost:8080/"
        },
        "id": "--Yaf02NKcFs",
        "outputId": "4c9c5a83-ab90-4753-8ef3-85b743af3b3c"
      },
      "execution_count": 8,
      "outputs": [
        {
          "output_type": "stream",
          "name": "stdout",
          "text": [
            "{-1: 0.811375383335819, 1: 3.903152392814327e-51}\n"
          ]
        }
      ]
    },
    {
      "cell_type": "markdown",
      "source": [
        "We can see that the probability of the first row belonging to the ... class (....) is higher than the probability of it belonging to the ...class (...)\n",
        "\n",
        "this was the implementation of the Naive Bayes algorithm. let’s learn more and test the algorithm."
      ],
      "metadata": {
        "id": "vxxs-_uMQ8ND"
      }
    },
    {
      "cell_type": "markdown",
      "source": [
        "##Predication,kfold cross validation,Evaluate the algorithm"
      ],
      "metadata": {
        "id": "QjXjGL3HQ9oL"
      }
    },
    {
      "cell_type": "code",
      "source": [
        "# Predict the class for a given row\n",
        "def predict(summaries, row):\n",
        "\tprobabilities = calculate_class_probabilities(summaries, row)\n",
        "\tbest_label, best_prob = None, -1\n",
        "\tfor class_value, probability in probabilities.items():\n",
        "\t\tif best_label is None or probability > best_prob:\n",
        "\t\t\tbest_prob = probability\n",
        "\t\t\tbest_label = class_value\n",
        "\treturn best_label\n",
        "\n",
        "# Split a dataset into k folds\n",
        "def cross_validation_split(dataset, n_folds):\n",
        "\tdataset_split = list()\n",
        "\tdataset_copy = list(dataset)\n",
        "\tfold_size = int(len(dataset) / n_folds)\n",
        "\tfor _ in range(n_folds):\n",
        "\t\tfold = list()\n",
        "\t\twhile len(fold) < fold_size:\n",
        "\t\t\tindex = randrange(len(dataset_copy))\n",
        "\t\t\tfold.append(dataset_copy.pop(index))\n",
        "\t\tdataset_split.append(fold)\n",
        "\treturn dataset_split\n",
        "\n",
        "# Calculate accuracy percentage\n",
        "def accuracy_metric(actual, predicted):\n",
        "\tcorrect = 0\n",
        "\tfor i in range(len(actual)):\n",
        "\t\tif actual[i] == predicted[i]:\n",
        "\t\t\tcorrect += 1\n",
        "\treturn correct / float(len(actual)) * 100.0\n",
        "\n",
        "# Evaluate an algorithm using a cross validation split\n",
        "def evaluate_algorithm(dataset, algorithm, n_folds, *args):\n",
        "\tfolds = cross_validation_split(dataset, n_folds)\n",
        "\tscores = list()\n",
        "\tfor fold in folds:\n",
        "\t\ttrain_set = list(folds)\n",
        "\t\ttrain_set.remove(fold)\n",
        "\t\ttrain_set = sum(train_set, [])\n",
        "\t\ttest_set = list()\n",
        "\t\tfor row in fold:\n",
        "\t\t\trow_copy = list(row)\n",
        "\t\t\ttest_set.append(row_copy)\n",
        "\t\t\trow_copy[-1] = None\n",
        "\t\tpredicted = algorithm(train_set, test_set, *args)\n",
        "\t\tactual = [row[-1] for row in fold]\n",
        "\t\taccuracy = accuracy_metric(actual, predicted)\n",
        "\t\tscores.append(accuracy)\n",
        "\treturn scores\n",
        "\n",
        "\n",
        "# Naive Bayes Algorithm\n",
        "def naive_bayes(train, test):\n",
        "\tsummarize = summarize_by_class(train)\n",
        "\tpredictions = list()\n",
        "\tfor row in test:\n",
        "\t\toutput = predict(summarize, row)\n",
        "\t\tpredictions.append(output)\n",
        "\treturn(predictions)"
      ],
      "metadata": {
        "id": "59WabzUVVTof"
      },
      "execution_count": 9,
      "outputs": []
    },
    {
      "cell_type": "code",
      "source": [
        "# Test separating data by class\n",
        "dataset = mixGauss([[0,0], [1,1]], [0.25, 0.25], 500)\n",
        "n_folds = 10\n",
        "scores = evaluate_algorithm(dataset, naive_bayes, n_folds)\n",
        "print('Scores: %s' % scores)\n",
        "print('Mean Accuracy: %.3f%%' % (sum(scores)/float(len(scores))))\n",
        "\n",
        "model = summarize_by_class(dataset)\n",
        "# define a new record\n",
        "test = mixGauss([[0,0], [1,1]], [0.25, 0.25], 10)\n",
        "[j.pop(2) for j in test]\n",
        "# predict the label\n",
        "for j in test:\n",
        "  label = predict(model, j)\n",
        "  print('Data=%s, Predicted: %s' % (test, label))"
      ],
      "metadata": {
        "colab": {
          "base_uri": "https://localhost:8080/"
        },
        "id": "VJGQUQ3KQLtr",
        "outputId": "233d8be8-3375-4d2b-99d0-a44617fb0ee2"
      },
      "execution_count": 10,
      "outputs": [
        {
          "output_type": "stream",
          "name": "stdout",
          "text": [
            "Scores: [99.0, 98.0, 99.0, 99.0, 100.0, 100.0, 100.0, 100.0, 99.0, 100.0]\n",
            "Mean Accuracy: 99.400%\n",
            "Data=[[-0.05513721645576161, 0.09464460611049587], [-0.058233908633140645, 0.13930584530930123], [-0.029777516214847345, 0.07154184325784839], [-0.2665240403542514, -0.263660926626709], [0.03746710759558996, -0.12237553358967865], [-0.5014780762923394, 0.04215167194967508], [-0.44352196755735096, 0.23542759580616876], [0.3355223056732783, -0.163642495621009], [0.05667972597648851, 0.16615283286372745], [-0.44200105875174855, 0.6033211077749229], [1.0423689433924754, 0.6624310127945576], [0.7502374477229529, 1.2040646034193738], [1.0266062931978086, 1.1678514866369036], [0.7110637550837654, 0.6896343312178859], [1.1332116303096198, 0.5641242681003295], [0.8738097432669231, 0.6717978965343321], [1.0425570602755316, 0.6835605767478694], [1.1171426700072742, 1.637281988287341], [0.7623050244322613, 1.2631974899082812], [0.8424513714670409, 1.0992049045825347]], Predicted: -1\n",
            "Data=[[-0.05513721645576161, 0.09464460611049587], [-0.058233908633140645, 0.13930584530930123], [-0.029777516214847345, 0.07154184325784839], [-0.2665240403542514, -0.263660926626709], [0.03746710759558996, -0.12237553358967865], [-0.5014780762923394, 0.04215167194967508], [-0.44352196755735096, 0.23542759580616876], [0.3355223056732783, -0.163642495621009], [0.05667972597648851, 0.16615283286372745], [-0.44200105875174855, 0.6033211077749229], [1.0423689433924754, 0.6624310127945576], [0.7502374477229529, 1.2040646034193738], [1.0266062931978086, 1.1678514866369036], [0.7110637550837654, 0.6896343312178859], [1.1332116303096198, 0.5641242681003295], [0.8738097432669231, 0.6717978965343321], [1.0425570602755316, 0.6835605767478694], [1.1171426700072742, 1.637281988287341], [0.7623050244322613, 1.2631974899082812], [0.8424513714670409, 1.0992049045825347]], Predicted: -1\n",
            "Data=[[-0.05513721645576161, 0.09464460611049587], [-0.058233908633140645, 0.13930584530930123], [-0.029777516214847345, 0.07154184325784839], [-0.2665240403542514, -0.263660926626709], [0.03746710759558996, -0.12237553358967865], [-0.5014780762923394, 0.04215167194967508], [-0.44352196755735096, 0.23542759580616876], [0.3355223056732783, -0.163642495621009], [0.05667972597648851, 0.16615283286372745], [-0.44200105875174855, 0.6033211077749229], [1.0423689433924754, 0.6624310127945576], [0.7502374477229529, 1.2040646034193738], [1.0266062931978086, 1.1678514866369036], [0.7110637550837654, 0.6896343312178859], [1.1332116303096198, 0.5641242681003295], [0.8738097432669231, 0.6717978965343321], [1.0425570602755316, 0.6835605767478694], [1.1171426700072742, 1.637281988287341], [0.7623050244322613, 1.2631974899082812], [0.8424513714670409, 1.0992049045825347]], Predicted: -1\n",
            "Data=[[-0.05513721645576161, 0.09464460611049587], [-0.058233908633140645, 0.13930584530930123], [-0.029777516214847345, 0.07154184325784839], [-0.2665240403542514, -0.263660926626709], [0.03746710759558996, -0.12237553358967865], [-0.5014780762923394, 0.04215167194967508], [-0.44352196755735096, 0.23542759580616876], [0.3355223056732783, -0.163642495621009], [0.05667972597648851, 0.16615283286372745], [-0.44200105875174855, 0.6033211077749229], [1.0423689433924754, 0.6624310127945576], [0.7502374477229529, 1.2040646034193738], [1.0266062931978086, 1.1678514866369036], [0.7110637550837654, 0.6896343312178859], [1.1332116303096198, 0.5641242681003295], [0.8738097432669231, 0.6717978965343321], [1.0425570602755316, 0.6835605767478694], [1.1171426700072742, 1.637281988287341], [0.7623050244322613, 1.2631974899082812], [0.8424513714670409, 1.0992049045825347]], Predicted: -1\n",
            "Data=[[-0.05513721645576161, 0.09464460611049587], [-0.058233908633140645, 0.13930584530930123], [-0.029777516214847345, 0.07154184325784839], [-0.2665240403542514, -0.263660926626709], [0.03746710759558996, -0.12237553358967865], [-0.5014780762923394, 0.04215167194967508], [-0.44352196755735096, 0.23542759580616876], [0.3355223056732783, -0.163642495621009], [0.05667972597648851, 0.16615283286372745], [-0.44200105875174855, 0.6033211077749229], [1.0423689433924754, 0.6624310127945576], [0.7502374477229529, 1.2040646034193738], [1.0266062931978086, 1.1678514866369036], [0.7110637550837654, 0.6896343312178859], [1.1332116303096198, 0.5641242681003295], [0.8738097432669231, 0.6717978965343321], [1.0425570602755316, 0.6835605767478694], [1.1171426700072742, 1.637281988287341], [0.7623050244322613, 1.2631974899082812], [0.8424513714670409, 1.0992049045825347]], Predicted: -1\n",
            "Data=[[-0.05513721645576161, 0.09464460611049587], [-0.058233908633140645, 0.13930584530930123], [-0.029777516214847345, 0.07154184325784839], [-0.2665240403542514, -0.263660926626709], [0.03746710759558996, -0.12237553358967865], [-0.5014780762923394, 0.04215167194967508], [-0.44352196755735096, 0.23542759580616876], [0.3355223056732783, -0.163642495621009], [0.05667972597648851, 0.16615283286372745], [-0.44200105875174855, 0.6033211077749229], [1.0423689433924754, 0.6624310127945576], [0.7502374477229529, 1.2040646034193738], [1.0266062931978086, 1.1678514866369036], [0.7110637550837654, 0.6896343312178859], [1.1332116303096198, 0.5641242681003295], [0.8738097432669231, 0.6717978965343321], [1.0425570602755316, 0.6835605767478694], [1.1171426700072742, 1.637281988287341], [0.7623050244322613, 1.2631974899082812], [0.8424513714670409, 1.0992049045825347]], Predicted: -1\n",
            "Data=[[-0.05513721645576161, 0.09464460611049587], [-0.058233908633140645, 0.13930584530930123], [-0.029777516214847345, 0.07154184325784839], [-0.2665240403542514, -0.263660926626709], [0.03746710759558996, -0.12237553358967865], [-0.5014780762923394, 0.04215167194967508], [-0.44352196755735096, 0.23542759580616876], [0.3355223056732783, -0.163642495621009], [0.05667972597648851, 0.16615283286372745], [-0.44200105875174855, 0.6033211077749229], [1.0423689433924754, 0.6624310127945576], [0.7502374477229529, 1.2040646034193738], [1.0266062931978086, 1.1678514866369036], [0.7110637550837654, 0.6896343312178859], [1.1332116303096198, 0.5641242681003295], [0.8738097432669231, 0.6717978965343321], [1.0425570602755316, 0.6835605767478694], [1.1171426700072742, 1.637281988287341], [0.7623050244322613, 1.2631974899082812], [0.8424513714670409, 1.0992049045825347]], Predicted: -1\n",
            "Data=[[-0.05513721645576161, 0.09464460611049587], [-0.058233908633140645, 0.13930584530930123], [-0.029777516214847345, 0.07154184325784839], [-0.2665240403542514, -0.263660926626709], [0.03746710759558996, -0.12237553358967865], [-0.5014780762923394, 0.04215167194967508], [-0.44352196755735096, 0.23542759580616876], [0.3355223056732783, -0.163642495621009], [0.05667972597648851, 0.16615283286372745], [-0.44200105875174855, 0.6033211077749229], [1.0423689433924754, 0.6624310127945576], [0.7502374477229529, 1.2040646034193738], [1.0266062931978086, 1.1678514866369036], [0.7110637550837654, 0.6896343312178859], [1.1332116303096198, 0.5641242681003295], [0.8738097432669231, 0.6717978965343321], [1.0425570602755316, 0.6835605767478694], [1.1171426700072742, 1.637281988287341], [0.7623050244322613, 1.2631974899082812], [0.8424513714670409, 1.0992049045825347]], Predicted: -1\n",
            "Data=[[-0.05513721645576161, 0.09464460611049587], [-0.058233908633140645, 0.13930584530930123], [-0.029777516214847345, 0.07154184325784839], [-0.2665240403542514, -0.263660926626709], [0.03746710759558996, -0.12237553358967865], [-0.5014780762923394, 0.04215167194967508], [-0.44352196755735096, 0.23542759580616876], [0.3355223056732783, -0.163642495621009], [0.05667972597648851, 0.16615283286372745], [-0.44200105875174855, 0.6033211077749229], [1.0423689433924754, 0.6624310127945576], [0.7502374477229529, 1.2040646034193738], [1.0266062931978086, 1.1678514866369036], [0.7110637550837654, 0.6896343312178859], [1.1332116303096198, 0.5641242681003295], [0.8738097432669231, 0.6717978965343321], [1.0425570602755316, 0.6835605767478694], [1.1171426700072742, 1.637281988287341], [0.7623050244322613, 1.2631974899082812], [0.8424513714670409, 1.0992049045825347]], Predicted: -1\n",
            "Data=[[-0.05513721645576161, 0.09464460611049587], [-0.058233908633140645, 0.13930584530930123], [-0.029777516214847345, 0.07154184325784839], [-0.2665240403542514, -0.263660926626709], [0.03746710759558996, -0.12237553358967865], [-0.5014780762923394, 0.04215167194967508], [-0.44352196755735096, 0.23542759580616876], [0.3355223056732783, -0.163642495621009], [0.05667972597648851, 0.16615283286372745], [-0.44200105875174855, 0.6033211077749229], [1.0423689433924754, 0.6624310127945576], [0.7502374477229529, 1.2040646034193738], [1.0266062931978086, 1.1678514866369036], [0.7110637550837654, 0.6896343312178859], [1.1332116303096198, 0.5641242681003295], [0.8738097432669231, 0.6717978965343321], [1.0425570602755316, 0.6835605767478694], [1.1171426700072742, 1.637281988287341], [0.7623050244322613, 1.2631974899082812], [0.8424513714670409, 1.0992049045825347]], Predicted: -1\n",
            "Data=[[-0.05513721645576161, 0.09464460611049587], [-0.058233908633140645, 0.13930584530930123], [-0.029777516214847345, 0.07154184325784839], [-0.2665240403542514, -0.263660926626709], [0.03746710759558996, -0.12237553358967865], [-0.5014780762923394, 0.04215167194967508], [-0.44352196755735096, 0.23542759580616876], [0.3355223056732783, -0.163642495621009], [0.05667972597648851, 0.16615283286372745], [-0.44200105875174855, 0.6033211077749229], [1.0423689433924754, 0.6624310127945576], [0.7502374477229529, 1.2040646034193738], [1.0266062931978086, 1.1678514866369036], [0.7110637550837654, 0.6896343312178859], [1.1332116303096198, 0.5641242681003295], [0.8738097432669231, 0.6717978965343321], [1.0425570602755316, 0.6835605767478694], [1.1171426700072742, 1.637281988287341], [0.7623050244322613, 1.2631974899082812], [0.8424513714670409, 1.0992049045825347]], Predicted: 1\n",
            "Data=[[-0.05513721645576161, 0.09464460611049587], [-0.058233908633140645, 0.13930584530930123], [-0.029777516214847345, 0.07154184325784839], [-0.2665240403542514, -0.263660926626709], [0.03746710759558996, -0.12237553358967865], [-0.5014780762923394, 0.04215167194967508], [-0.44352196755735096, 0.23542759580616876], [0.3355223056732783, -0.163642495621009], [0.05667972597648851, 0.16615283286372745], [-0.44200105875174855, 0.6033211077749229], [1.0423689433924754, 0.6624310127945576], [0.7502374477229529, 1.2040646034193738], [1.0266062931978086, 1.1678514866369036], [0.7110637550837654, 0.6896343312178859], [1.1332116303096198, 0.5641242681003295], [0.8738097432669231, 0.6717978965343321], [1.0425570602755316, 0.6835605767478694], [1.1171426700072742, 1.637281988287341], [0.7623050244322613, 1.2631974899082812], [0.8424513714670409, 1.0992049045825347]], Predicted: 1\n",
            "Data=[[-0.05513721645576161, 0.09464460611049587], [-0.058233908633140645, 0.13930584530930123], [-0.029777516214847345, 0.07154184325784839], [-0.2665240403542514, -0.263660926626709], [0.03746710759558996, -0.12237553358967865], [-0.5014780762923394, 0.04215167194967508], [-0.44352196755735096, 0.23542759580616876], [0.3355223056732783, -0.163642495621009], [0.05667972597648851, 0.16615283286372745], [-0.44200105875174855, 0.6033211077749229], [1.0423689433924754, 0.6624310127945576], [0.7502374477229529, 1.2040646034193738], [1.0266062931978086, 1.1678514866369036], [0.7110637550837654, 0.6896343312178859], [1.1332116303096198, 0.5641242681003295], [0.8738097432669231, 0.6717978965343321], [1.0425570602755316, 0.6835605767478694], [1.1171426700072742, 1.637281988287341], [0.7623050244322613, 1.2631974899082812], [0.8424513714670409, 1.0992049045825347]], Predicted: 1\n",
            "Data=[[-0.05513721645576161, 0.09464460611049587], [-0.058233908633140645, 0.13930584530930123], [-0.029777516214847345, 0.07154184325784839], [-0.2665240403542514, -0.263660926626709], [0.03746710759558996, -0.12237553358967865], [-0.5014780762923394, 0.04215167194967508], [-0.44352196755735096, 0.23542759580616876], [0.3355223056732783, -0.163642495621009], [0.05667972597648851, 0.16615283286372745], [-0.44200105875174855, 0.6033211077749229], [1.0423689433924754, 0.6624310127945576], [0.7502374477229529, 1.2040646034193738], [1.0266062931978086, 1.1678514866369036], [0.7110637550837654, 0.6896343312178859], [1.1332116303096198, 0.5641242681003295], [0.8738097432669231, 0.6717978965343321], [1.0425570602755316, 0.6835605767478694], [1.1171426700072742, 1.637281988287341], [0.7623050244322613, 1.2631974899082812], [0.8424513714670409, 1.0992049045825347]], Predicted: 1\n",
            "Data=[[-0.05513721645576161, 0.09464460611049587], [-0.058233908633140645, 0.13930584530930123], [-0.029777516214847345, 0.07154184325784839], [-0.2665240403542514, -0.263660926626709], [0.03746710759558996, -0.12237553358967865], [-0.5014780762923394, 0.04215167194967508], [-0.44352196755735096, 0.23542759580616876], [0.3355223056732783, -0.163642495621009], [0.05667972597648851, 0.16615283286372745], [-0.44200105875174855, 0.6033211077749229], [1.0423689433924754, 0.6624310127945576], [0.7502374477229529, 1.2040646034193738], [1.0266062931978086, 1.1678514866369036], [0.7110637550837654, 0.6896343312178859], [1.1332116303096198, 0.5641242681003295], [0.8738097432669231, 0.6717978965343321], [1.0425570602755316, 0.6835605767478694], [1.1171426700072742, 1.637281988287341], [0.7623050244322613, 1.2631974899082812], [0.8424513714670409, 1.0992049045825347]], Predicted: 1\n",
            "Data=[[-0.05513721645576161, 0.09464460611049587], [-0.058233908633140645, 0.13930584530930123], [-0.029777516214847345, 0.07154184325784839], [-0.2665240403542514, -0.263660926626709], [0.03746710759558996, -0.12237553358967865], [-0.5014780762923394, 0.04215167194967508], [-0.44352196755735096, 0.23542759580616876], [0.3355223056732783, -0.163642495621009], [0.05667972597648851, 0.16615283286372745], [-0.44200105875174855, 0.6033211077749229], [1.0423689433924754, 0.6624310127945576], [0.7502374477229529, 1.2040646034193738], [1.0266062931978086, 1.1678514866369036], [0.7110637550837654, 0.6896343312178859], [1.1332116303096198, 0.5641242681003295], [0.8738097432669231, 0.6717978965343321], [1.0425570602755316, 0.6835605767478694], [1.1171426700072742, 1.637281988287341], [0.7623050244322613, 1.2631974899082812], [0.8424513714670409, 1.0992049045825347]], Predicted: 1\n",
            "Data=[[-0.05513721645576161, 0.09464460611049587], [-0.058233908633140645, 0.13930584530930123], [-0.029777516214847345, 0.07154184325784839], [-0.2665240403542514, -0.263660926626709], [0.03746710759558996, -0.12237553358967865], [-0.5014780762923394, 0.04215167194967508], [-0.44352196755735096, 0.23542759580616876], [0.3355223056732783, -0.163642495621009], [0.05667972597648851, 0.16615283286372745], [-0.44200105875174855, 0.6033211077749229], [1.0423689433924754, 0.6624310127945576], [0.7502374477229529, 1.2040646034193738], [1.0266062931978086, 1.1678514866369036], [0.7110637550837654, 0.6896343312178859], [1.1332116303096198, 0.5641242681003295], [0.8738097432669231, 0.6717978965343321], [1.0425570602755316, 0.6835605767478694], [1.1171426700072742, 1.637281988287341], [0.7623050244322613, 1.2631974899082812], [0.8424513714670409, 1.0992049045825347]], Predicted: 1\n",
            "Data=[[-0.05513721645576161, 0.09464460611049587], [-0.058233908633140645, 0.13930584530930123], [-0.029777516214847345, 0.07154184325784839], [-0.2665240403542514, -0.263660926626709], [0.03746710759558996, -0.12237553358967865], [-0.5014780762923394, 0.04215167194967508], [-0.44352196755735096, 0.23542759580616876], [0.3355223056732783, -0.163642495621009], [0.05667972597648851, 0.16615283286372745], [-0.44200105875174855, 0.6033211077749229], [1.0423689433924754, 0.6624310127945576], [0.7502374477229529, 1.2040646034193738], [1.0266062931978086, 1.1678514866369036], [0.7110637550837654, 0.6896343312178859], [1.1332116303096198, 0.5641242681003295], [0.8738097432669231, 0.6717978965343321], [1.0425570602755316, 0.6835605767478694], [1.1171426700072742, 1.637281988287341], [0.7623050244322613, 1.2631974899082812], [0.8424513714670409, 1.0992049045825347]], Predicted: 1\n",
            "Data=[[-0.05513721645576161, 0.09464460611049587], [-0.058233908633140645, 0.13930584530930123], [-0.029777516214847345, 0.07154184325784839], [-0.2665240403542514, -0.263660926626709], [0.03746710759558996, -0.12237553358967865], [-0.5014780762923394, 0.04215167194967508], [-0.44352196755735096, 0.23542759580616876], [0.3355223056732783, -0.163642495621009], [0.05667972597648851, 0.16615283286372745], [-0.44200105875174855, 0.6033211077749229], [1.0423689433924754, 0.6624310127945576], [0.7502374477229529, 1.2040646034193738], [1.0266062931978086, 1.1678514866369036], [0.7110637550837654, 0.6896343312178859], [1.1332116303096198, 0.5641242681003295], [0.8738097432669231, 0.6717978965343321], [1.0425570602755316, 0.6835605767478694], [1.1171426700072742, 1.637281988287341], [0.7623050244322613, 1.2631974899082812], [0.8424513714670409, 1.0992049045825347]], Predicted: 1\n",
            "Data=[[-0.05513721645576161, 0.09464460611049587], [-0.058233908633140645, 0.13930584530930123], [-0.029777516214847345, 0.07154184325784839], [-0.2665240403542514, -0.263660926626709], [0.03746710759558996, -0.12237553358967865], [-0.5014780762923394, 0.04215167194967508], [-0.44352196755735096, 0.23542759580616876], [0.3355223056732783, -0.163642495621009], [0.05667972597648851, 0.16615283286372745], [-0.44200105875174855, 0.6033211077749229], [1.0423689433924754, 0.6624310127945576], [0.7502374477229529, 1.2040646034193738], [1.0266062931978086, 1.1678514866369036], [0.7110637550837654, 0.6896343312178859], [1.1332116303096198, 0.5641242681003295], [0.8738097432669231, 0.6717978965343321], [1.0425570602755316, 0.6835605767478694], [1.1171426700072742, 1.637281988287341], [0.7623050244322613, 1.2631974899082812], [0.8424513714670409, 1.0992049045825347]], Predicted: 1\n"
          ]
        }
      ]
    },
    {
      "cell_type": "code",
      "source": [
        ""
      ],
      "metadata": {
        "id": "G0sYM78eQbhu"
      },
      "execution_count": null,
      "outputs": []
    }
  ]
}